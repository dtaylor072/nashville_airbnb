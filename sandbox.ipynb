{
 "cells": [
  {
   "cell_type": "code",
   "execution_count": 138,
   "metadata": {},
   "outputs": [],
   "source": [
    "import pandas as pd\n",
    "import numpy as np\n",
    "import matplotlib.pyplot as plt\n",
    "import seaborn as sns\n",
    "\n",
    "from sklearn.model_selection import train_test_split\n",
    "from sklearn.linear_model import LinearRegression, Ridge, RidgeCV, Lasso, LassoCV\n",
    "from sklearn.preprocessing import StandardScaler\n",
    "from sklearn.ensemble import RandomForestRegressor\n",
    "from xgboost import XGBRegressor\n",
    "\n",
    "import warnings\n",
    "\n",
    "warnings.simplefilter(action='ignore', category=FutureWarning)\n",
    "plt.style.use('seaborn')"
   ]
  },
  {
   "cell_type": "code",
   "execution_count": 59,
   "metadata": {},
   "outputs": [],
   "source": [
    "# features to read in to pandas DF\n",
    "features = ['id',\n",
    "            'last_scraped',\n",
    "            'host_since',\n",
    "            'host_response_time',\n",
    "            'host_response_rate',\n",
    "            'host_is_superhost',\n",
    "            'host_total_listings_count',\n",
    "            'host_has_profile_pic',\n",
    "            'host_identity_verified',\n",
    "            'latitude',\n",
    "            'longitude',\n",
    "            'property_type',\n",
    "            'room_type',\n",
    "            'accommodates',\n",
    "            'bathrooms',\n",
    "            'bedrooms',\n",
    "            'beds',\n",
    "            'bed_type',\n",
    "            'price',\n",
    "            'security_deposit',\n",
    "            'cleaning_fee',\n",
    "            'guests_included',\n",
    "            'extra_people',\n",
    "            'minimum_nights',\n",
    "            'maximum_nights',\n",
    "            'availability_30',\n",
    "            'availability_60',\n",
    "            'availability_90',\n",
    "            'availability_365',\n",
    "            'number_of_reviews',\n",
    "            'number_of_reviews_ltm',\n",
    "            'first_review',\n",
    "            'last_review',\n",
    "            'review_scores_rating',\n",
    "            'review_scores_accuracy',\n",
    "            'review_scores_cleanliness',\n",
    "            'review_scores_checkin',\n",
    "            'review_scores_communication',\n",
    "            'review_scores_location',\n",
    "            'review_scores_value',\n",
    "            'instant_bookable',\n",
    "            'is_business_travel_ready',\n",
    "            'cancellation_policy',\n",
    "            'require_guest_profile_picture',\n",
    "            'require_guest_phone_verification',\n",
    "            'calculated_host_listings_count',\n",
    "            'reviews_per_month']"
   ]
  },
  {
   "cell_type": "code",
   "execution_count": 122,
   "metadata": {},
   "outputs": [
    {
     "data": {
      "text/html": [
       "<div>\n",
       "<style scoped>\n",
       "    .dataframe tbody tr th:only-of-type {\n",
       "        vertical-align: middle;\n",
       "    }\n",
       "\n",
       "    .dataframe tbody tr th {\n",
       "        vertical-align: top;\n",
       "    }\n",
       "\n",
       "    .dataframe thead th {\n",
       "        text-align: right;\n",
       "    }\n",
       "</style>\n",
       "<table border=\"1\" class=\"dataframe\">\n",
       "  <thead>\n",
       "    <tr style=\"text-align: right;\">\n",
       "      <th></th>\n",
       "      <th>host_response_rate</th>\n",
       "      <th>host_is_superhost</th>\n",
       "      <th>host_total_listings_count</th>\n",
       "      <th>host_has_profile_pic</th>\n",
       "      <th>host_identity_verified</th>\n",
       "      <th>latitude</th>\n",
       "      <th>longitude</th>\n",
       "      <th>accommodates</th>\n",
       "      <th>bathrooms</th>\n",
       "      <th>bedrooms</th>\n",
       "      <th>...</th>\n",
       "      <th>room_type_Hotel room</th>\n",
       "      <th>room_type_Private room</th>\n",
       "      <th>room_type_Shared room</th>\n",
       "      <th>bed_type_Other</th>\n",
       "      <th>bed_type_Real Bed</th>\n",
       "      <th>cancellation_policy_flexible</th>\n",
       "      <th>cancellation_policy_moderate</th>\n",
       "      <th>cancellation_policy_strict_14_with_grace_period</th>\n",
       "      <th>cancellation_policy_super_strict_30</th>\n",
       "      <th>cancellation_policy_super_strict_60</th>\n",
       "    </tr>\n",
       "  </thead>\n",
       "  <tbody>\n",
       "    <tr>\n",
       "      <td>5</td>\n",
       "      <td>0.83</td>\n",
       "      <td>1.0</td>\n",
       "      <td>1.0</td>\n",
       "      <td>1.0</td>\n",
       "      <td>1.0</td>\n",
       "      <td>36.13311</td>\n",
       "      <td>-86.77477</td>\n",
       "      <td>2.0</td>\n",
       "      <td>1.0</td>\n",
       "      <td>1.0</td>\n",
       "      <td>...</td>\n",
       "      <td>0.0</td>\n",
       "      <td>1.0</td>\n",
       "      <td>0.0</td>\n",
       "      <td>0.0</td>\n",
       "      <td>1.0</td>\n",
       "      <td>0.0</td>\n",
       "      <td>0.0</td>\n",
       "      <td>1.0</td>\n",
       "      <td>0.0</td>\n",
       "      <td>0.0</td>\n",
       "    </tr>\n",
       "    <tr>\n",
       "      <td>6</td>\n",
       "      <td>1.00</td>\n",
       "      <td>1.0</td>\n",
       "      <td>2.0</td>\n",
       "      <td>1.0</td>\n",
       "      <td>1.0</td>\n",
       "      <td>36.12523</td>\n",
       "      <td>-86.81278</td>\n",
       "      <td>2.0</td>\n",
       "      <td>1.0</td>\n",
       "      <td>1.0</td>\n",
       "      <td>...</td>\n",
       "      <td>0.0</td>\n",
       "      <td>1.0</td>\n",
       "      <td>0.0</td>\n",
       "      <td>0.0</td>\n",
       "      <td>1.0</td>\n",
       "      <td>0.0</td>\n",
       "      <td>1.0</td>\n",
       "      <td>0.0</td>\n",
       "      <td>0.0</td>\n",
       "      <td>0.0</td>\n",
       "    </tr>\n",
       "    <tr>\n",
       "      <td>7</td>\n",
       "      <td>0.98</td>\n",
       "      <td>0.0</td>\n",
       "      <td>42.0</td>\n",
       "      <td>1.0</td>\n",
       "      <td>0.0</td>\n",
       "      <td>36.16539</td>\n",
       "      <td>-86.77589</td>\n",
       "      <td>4.0</td>\n",
       "      <td>1.0</td>\n",
       "      <td>1.0</td>\n",
       "      <td>...</td>\n",
       "      <td>0.0</td>\n",
       "      <td>0.0</td>\n",
       "      <td>0.0</td>\n",
       "      <td>0.0</td>\n",
       "      <td>1.0</td>\n",
       "      <td>0.0</td>\n",
       "      <td>0.0</td>\n",
       "      <td>1.0</td>\n",
       "      <td>0.0</td>\n",
       "      <td>0.0</td>\n",
       "    </tr>\n",
       "    <tr>\n",
       "      <td>8</td>\n",
       "      <td>1.00</td>\n",
       "      <td>1.0</td>\n",
       "      <td>1.0</td>\n",
       "      <td>1.0</td>\n",
       "      <td>1.0</td>\n",
       "      <td>36.13060</td>\n",
       "      <td>-86.80045</td>\n",
       "      <td>4.0</td>\n",
       "      <td>1.0</td>\n",
       "      <td>2.0</td>\n",
       "      <td>...</td>\n",
       "      <td>0.0</td>\n",
       "      <td>0.0</td>\n",
       "      <td>0.0</td>\n",
       "      <td>0.0</td>\n",
       "      <td>1.0</td>\n",
       "      <td>1.0</td>\n",
       "      <td>0.0</td>\n",
       "      <td>0.0</td>\n",
       "      <td>0.0</td>\n",
       "      <td>0.0</td>\n",
       "    </tr>\n",
       "    <tr>\n",
       "      <td>9</td>\n",
       "      <td>1.00</td>\n",
       "      <td>0.0</td>\n",
       "      <td>1.0</td>\n",
       "      <td>1.0</td>\n",
       "      <td>1.0</td>\n",
       "      <td>36.13054</td>\n",
       "      <td>-86.78762</td>\n",
       "      <td>8.0</td>\n",
       "      <td>2.0</td>\n",
       "      <td>3.0</td>\n",
       "      <td>...</td>\n",
       "      <td>0.0</td>\n",
       "      <td>0.0</td>\n",
       "      <td>0.0</td>\n",
       "      <td>0.0</td>\n",
       "      <td>1.0</td>\n",
       "      <td>0.0</td>\n",
       "      <td>0.0</td>\n",
       "      <td>1.0</td>\n",
       "      <td>0.0</td>\n",
       "      <td>0.0</td>\n",
       "    </tr>\n",
       "    <tr>\n",
       "      <td>...</td>\n",
       "      <td>...</td>\n",
       "      <td>...</td>\n",
       "      <td>...</td>\n",
       "      <td>...</td>\n",
       "      <td>...</td>\n",
       "      <td>...</td>\n",
       "      <td>...</td>\n",
       "      <td>...</td>\n",
       "      <td>...</td>\n",
       "      <td>...</td>\n",
       "      <td>...</td>\n",
       "      <td>...</td>\n",
       "      <td>...</td>\n",
       "      <td>...</td>\n",
       "      <td>...</td>\n",
       "      <td>...</td>\n",
       "      <td>...</td>\n",
       "      <td>...</td>\n",
       "      <td>...</td>\n",
       "      <td>...</td>\n",
       "      <td>...</td>\n",
       "    </tr>\n",
       "    <tr>\n",
       "      <td>7187</td>\n",
       "      <td>1.00</td>\n",
       "      <td>1.0</td>\n",
       "      <td>19.0</td>\n",
       "      <td>1.0</td>\n",
       "      <td>1.0</td>\n",
       "      <td>36.20317</td>\n",
       "      <td>-86.74249</td>\n",
       "      <td>16.0</td>\n",
       "      <td>3.0</td>\n",
       "      <td>3.0</td>\n",
       "      <td>...</td>\n",
       "      <td>0.0</td>\n",
       "      <td>0.0</td>\n",
       "      <td>0.0</td>\n",
       "      <td>0.0</td>\n",
       "      <td>1.0</td>\n",
       "      <td>0.0</td>\n",
       "      <td>0.0</td>\n",
       "      <td>1.0</td>\n",
       "      <td>0.0</td>\n",
       "      <td>0.0</td>\n",
       "    </tr>\n",
       "    <tr>\n",
       "      <td>7203</td>\n",
       "      <td>1.00</td>\n",
       "      <td>1.0</td>\n",
       "      <td>4.0</td>\n",
       "      <td>1.0</td>\n",
       "      <td>0.0</td>\n",
       "      <td>36.12751</td>\n",
       "      <td>-86.69775</td>\n",
       "      <td>7.0</td>\n",
       "      <td>1.0</td>\n",
       "      <td>2.0</td>\n",
       "      <td>...</td>\n",
       "      <td>0.0</td>\n",
       "      <td>0.0</td>\n",
       "      <td>0.0</td>\n",
       "      <td>0.0</td>\n",
       "      <td>1.0</td>\n",
       "      <td>0.0</td>\n",
       "      <td>1.0</td>\n",
       "      <td>0.0</td>\n",
       "      <td>0.0</td>\n",
       "      <td>0.0</td>\n",
       "    </tr>\n",
       "    <tr>\n",
       "      <td>7209</td>\n",
       "      <td>0.98</td>\n",
       "      <td>0.0</td>\n",
       "      <td>13.0</td>\n",
       "      <td>1.0</td>\n",
       "      <td>1.0</td>\n",
       "      <td>36.17039</td>\n",
       "      <td>-86.80026</td>\n",
       "      <td>16.0</td>\n",
       "      <td>2.0</td>\n",
       "      <td>4.0</td>\n",
       "      <td>...</td>\n",
       "      <td>0.0</td>\n",
       "      <td>0.0</td>\n",
       "      <td>0.0</td>\n",
       "      <td>0.0</td>\n",
       "      <td>1.0</td>\n",
       "      <td>0.0</td>\n",
       "      <td>0.0</td>\n",
       "      <td>1.0</td>\n",
       "      <td>0.0</td>\n",
       "      <td>0.0</td>\n",
       "    </tr>\n",
       "    <tr>\n",
       "      <td>7213</td>\n",
       "      <td>1.00</td>\n",
       "      <td>1.0</td>\n",
       "      <td>4.0</td>\n",
       "      <td>1.0</td>\n",
       "      <td>0.0</td>\n",
       "      <td>36.13848</td>\n",
       "      <td>-86.79298</td>\n",
       "      <td>2.0</td>\n",
       "      <td>1.0</td>\n",
       "      <td>1.0</td>\n",
       "      <td>...</td>\n",
       "      <td>0.0</td>\n",
       "      <td>0.0</td>\n",
       "      <td>0.0</td>\n",
       "      <td>0.0</td>\n",
       "      <td>1.0</td>\n",
       "      <td>0.0</td>\n",
       "      <td>1.0</td>\n",
       "      <td>0.0</td>\n",
       "      <td>0.0</td>\n",
       "      <td>0.0</td>\n",
       "    </tr>\n",
       "    <tr>\n",
       "      <td>7214</td>\n",
       "      <td>1.00</td>\n",
       "      <td>1.0</td>\n",
       "      <td>41.0</td>\n",
       "      <td>1.0</td>\n",
       "      <td>0.0</td>\n",
       "      <td>36.23131</td>\n",
       "      <td>-86.77079</td>\n",
       "      <td>12.0</td>\n",
       "      <td>3.5</td>\n",
       "      <td>3.0</td>\n",
       "      <td>...</td>\n",
       "      <td>0.0</td>\n",
       "      <td>0.0</td>\n",
       "      <td>0.0</td>\n",
       "      <td>0.0</td>\n",
       "      <td>1.0</td>\n",
       "      <td>0.0</td>\n",
       "      <td>0.0</td>\n",
       "      <td>1.0</td>\n",
       "      <td>0.0</td>\n",
       "      <td>0.0</td>\n",
       "    </tr>\n",
       "  </tbody>\n",
       "</table>\n",
       "<p>4958 rows × 60 columns</p>\n",
       "</div>"
      ],
      "text/plain": [
       "      host_response_rate  host_is_superhost  host_total_listings_count  \\\n",
       "5                   0.83                1.0                        1.0   \n",
       "6                   1.00                1.0                        2.0   \n",
       "7                   0.98                0.0                       42.0   \n",
       "8                   1.00                1.0                        1.0   \n",
       "9                   1.00                0.0                        1.0   \n",
       "...                  ...                ...                        ...   \n",
       "7187                1.00                1.0                       19.0   \n",
       "7203                1.00                1.0                        4.0   \n",
       "7209                0.98                0.0                       13.0   \n",
       "7213                1.00                1.0                        4.0   \n",
       "7214                1.00                1.0                       41.0   \n",
       "\n",
       "      host_has_profile_pic  host_identity_verified  latitude  longitude  \\\n",
       "5                      1.0                     1.0  36.13311  -86.77477   \n",
       "6                      1.0                     1.0  36.12523  -86.81278   \n",
       "7                      1.0                     0.0  36.16539  -86.77589   \n",
       "8                      1.0                     1.0  36.13060  -86.80045   \n",
       "9                      1.0                     1.0  36.13054  -86.78762   \n",
       "...                    ...                     ...       ...        ...   \n",
       "7187                   1.0                     1.0  36.20317  -86.74249   \n",
       "7203                   1.0                     0.0  36.12751  -86.69775   \n",
       "7209                   1.0                     1.0  36.17039  -86.80026   \n",
       "7213                   1.0                     0.0  36.13848  -86.79298   \n",
       "7214                   1.0                     0.0  36.23131  -86.77079   \n",
       "\n",
       "      accommodates  bathrooms  bedrooms  ...  room_type_Hotel room  \\\n",
       "5              2.0        1.0       1.0  ...                   0.0   \n",
       "6              2.0        1.0       1.0  ...                   0.0   \n",
       "7              4.0        1.0       1.0  ...                   0.0   \n",
       "8              4.0        1.0       2.0  ...                   0.0   \n",
       "9              8.0        2.0       3.0  ...                   0.0   \n",
       "...            ...        ...       ...  ...                   ...   \n",
       "7187          16.0        3.0       3.0  ...                   0.0   \n",
       "7203           7.0        1.0       2.0  ...                   0.0   \n",
       "7209          16.0        2.0       4.0  ...                   0.0   \n",
       "7213           2.0        1.0       1.0  ...                   0.0   \n",
       "7214          12.0        3.5       3.0  ...                   0.0   \n",
       "\n",
       "      room_type_Private room  room_type_Shared room  bed_type_Other  \\\n",
       "5                        1.0                    0.0             0.0   \n",
       "6                        1.0                    0.0             0.0   \n",
       "7                        0.0                    0.0             0.0   \n",
       "8                        0.0                    0.0             0.0   \n",
       "9                        0.0                    0.0             0.0   \n",
       "...                      ...                    ...             ...   \n",
       "7187                     0.0                    0.0             0.0   \n",
       "7203                     0.0                    0.0             0.0   \n",
       "7209                     0.0                    0.0             0.0   \n",
       "7213                     0.0                    0.0             0.0   \n",
       "7214                     0.0                    0.0             0.0   \n",
       "\n",
       "      bed_type_Real Bed  cancellation_policy_flexible  \\\n",
       "5                   1.0                           0.0   \n",
       "6                   1.0                           0.0   \n",
       "7                   1.0                           0.0   \n",
       "8                   1.0                           1.0   \n",
       "9                   1.0                           0.0   \n",
       "...                 ...                           ...   \n",
       "7187                1.0                           0.0   \n",
       "7203                1.0                           0.0   \n",
       "7209                1.0                           0.0   \n",
       "7213                1.0                           0.0   \n",
       "7214                1.0                           0.0   \n",
       "\n",
       "      cancellation_policy_moderate  \\\n",
       "5                              0.0   \n",
       "6                              1.0   \n",
       "7                              0.0   \n",
       "8                              0.0   \n",
       "9                              0.0   \n",
       "...                            ...   \n",
       "7187                           0.0   \n",
       "7203                           1.0   \n",
       "7209                           0.0   \n",
       "7213                           1.0   \n",
       "7214                           0.0   \n",
       "\n",
       "      cancellation_policy_strict_14_with_grace_period  \\\n",
       "5                                                 1.0   \n",
       "6                                                 0.0   \n",
       "7                                                 1.0   \n",
       "8                                                 0.0   \n",
       "9                                                 1.0   \n",
       "...                                               ...   \n",
       "7187                                              1.0   \n",
       "7203                                              0.0   \n",
       "7209                                              1.0   \n",
       "7213                                              0.0   \n",
       "7214                                              1.0   \n",
       "\n",
       "      cancellation_policy_super_strict_30  cancellation_policy_super_strict_60  \n",
       "5                                     0.0                                  0.0  \n",
       "6                                     0.0                                  0.0  \n",
       "7                                     0.0                                  0.0  \n",
       "8                                     0.0                                  0.0  \n",
       "9                                     0.0                                  0.0  \n",
       "...                                   ...                                  ...  \n",
       "7187                                  0.0                                  0.0  \n",
       "7203                                  0.0                                  0.0  \n",
       "7209                                  0.0                                  0.0  \n",
       "7213                                  0.0                                  0.0  \n",
       "7214                                  0.0                                  0.0  \n",
       "\n",
       "[4958 rows x 60 columns]"
      ]
     },
     "execution_count": 122,
     "metadata": {},
     "output_type": "execute_result"
    }
   ],
   "source": [
    "df"
   ]
  },
  {
   "cell_type": "code",
   "execution_count": 75,
   "metadata": {},
   "outputs": [],
   "source": [
    "raw_data = pd.read_csv('data/listings.csv', true_values=['t'], false_values=['f'], usecols=features,\n",
    "                 parse_dates=['last_scraped', 'host_since', 'first_review', 'last_review'])"
   ]
  },
  {
   "cell_type": "code",
   "execution_count": 76,
   "metadata": {},
   "outputs": [],
   "source": [
    "def clean_data(raw_data):  \n",
    "    \"\"\"Clean entire dataset and prepare for modeling\"\"\"\n",
    "    df = raw_data.copy()\n",
    "    \n",
    "    # Decrease dimensionality of property_type and bed_type features\n",
    "    df.property_type = df.property_type.map(lambda x: x if x in ['House', 'Apartment', 'Condominium', 'Townhouse'] else 'Other')\n",
    "    df.bed_type = df.bed_type.map(lambda x: x if x == 'Real Bed' else 'Other')\n",
    "    \n",
    "    # convert currencies to floats\n",
    "    currency_cols = ['price', 'extra_people', 'security_deposit', 'cleaning_fee']\n",
    "    for col in currency_cols:\n",
    "        df[col] = df[col].astype(str)\n",
    "        df[col] = df[col].map(lambda x: float(x.replace('$', '').replace(',', '')))\n",
    "    \n",
    "    # standardize availabilty features\n",
    "    df.availability_30 = df.availability_30 / 30.\n",
    "    df.availability_60 = df.availability_60 / 60.\n",
    "    df.availability_90 = df.availability_90 / 90.\n",
    "    df.availability_365 = df.availability_365 / 365.\n",
    "    \n",
    "    # convert rates and time differences to floats\n",
    "    df['host_response_rate'] = df['host_response_rate'].str.replace('%', '.0').astype('float') / 100.0\n",
    "    df['years_host_since'] = (df['last_scraped'] - df['host_since']) / np.timedelta64(1, 'Y')\n",
    "    df['days_since_first_review'] = (df['last_scraped'] - df['first_review']) / np.timedelta64(1, 'D')\n",
    "    df['days_since_last_review'] = (df['last_scraped'] - df['last_review']) / np.timedelta64(1, 'D')\n",
    "    \n",
    "    # convert True and False values to 1s and 0s\n",
    "    df = df.replace(True, 1.).replace(False, 0.)\n",
    "    \n",
    "    # create dummy variables for categorical features \n",
    "    categorical_features = ['host_response_time',\n",
    "                            'property_type',\n",
    "                            'room_type',\n",
    "                            'bed_type',\n",
    "                            'cancellation_policy']\n",
    "    df = pd.get_dummies(df, columns=categorical_features)\n",
    "    \n",
    "    # drop unnecessary columns and observations with NA values\n",
    "    df.drop(['id', 'last_scraped', 'host_since', 'first_review', 'last_review'], axis=1, inplace=True)\n",
    "    df = df.astype('float')\n",
    "    df.dropna(inplace=True)\n",
    "    \n",
    "    # remove price outliers (keep middle 95%)\n",
    "    quantiles = np.quantile(df.price, [0.025, 0.975])\n",
    "    df = df.loc[(df.price > quantiles[0]) & (df.price < quantiles[1])]\n",
    "    \n",
    "    return df"
   ]
  },
  {
   "cell_type": "code",
   "execution_count": 77,
   "metadata": {},
   "outputs": [],
   "source": [
    "df = clean_data(raw_data)\n",
    "df.to_csv('data/clean_data.csv')"
   ]
  },
  {
   "cell_type": "code",
   "execution_count": 78,
   "metadata": {},
   "outputs": [
    {
     "data": {
      "text/plain": [
       "count    4958.000000\n",
       "mean      224.998386\n",
       "std       197.397135\n",
       "min        46.000000\n",
       "25%        99.000000\n",
       "50%       152.000000\n",
       "75%       259.750000\n",
       "max      1000.000000\n",
       "Name: price, dtype: float64"
      ]
     },
     "execution_count": 78,
     "metadata": {},
     "output_type": "execute_result"
    }
   ],
   "source": [
    "df.price.describe()"
   ]
  },
  {
   "cell_type": "code",
   "execution_count": 79,
   "metadata": {},
   "outputs": [
    {
     "data": {
      "image/png": "[encoded data removed]",
      "text/plain": [
       "<Figure size 576x396 with 1 Axes>"
      ]
     },
     "metadata": {},
     "output_type": "display_data"
    }
   ],
   "source": [
    "plt.hist(df.price, bins=20)\n",
    "plt.title('Price Histogram')\n",
    "plt.show()"
   ]
  },
  {
   "cell_type": "code",
   "execution_count": 121,
   "metadata": {},
   "outputs": [
    {
     "data": {
      "image/png": "[encoded data removed]",
      "text/plain": [
       "<Figure size 720x504 with 2 Axes>"
      ]
     },
     "metadata": {},
     "output_type": "display_data"
    }
   ],
   "source": [
    "df.plot(kind=\"scatter\", x=\"longitude\", y=\"latitude\",\n",
    "    c=\"price\", cmap=plt.get_cmap(\"viridis\"),\n",
    "    colorbar=True, alpha=0.4, figsize=(10,7),\n",
    ")\n",
    "plt.show()"
   ]
  },
  {
   "cell_type": "markdown",
   "metadata": {},
   "source": [
    "#  Regression"
   ]
  },
  {
   "cell_type": "code",
   "execution_count": 80,
   "metadata": {},
   "outputs": [],
   "source": [
    "def evaluate(model, X_test, y_test):\n",
    "    y_pred = model.predict(X_test)\n",
    "    errors = abs(y_pred - y_test)\n",
    "    sse = sum((y_pred - y_test)**2)\n",
    "    mse = np.mean((y_pred - y_test)**2)\n",
    "    mape = 100 * np.mean(errors / y_test)\n",
    "    accuracy = 100 - mape\n",
    "    print('Test R^2: {:0.3f}'.format(model.score(X_test, y_test)))\n",
    "    print('Mean Error: ${:0.2f}'.format(np.mean(errors)))\n",
    "    print('Mean Absolute % Error: {:0.2f}%'.format(mape))\n",
    "    print('SSE: {:0.2f}'.format(sse))\n",
    "    print('MSE: {:0.2f}'.format(mse))\n",
    "    print('Accuracy = {:0.2f}%'.format(accuracy))"
   ]
  },
  {
   "cell_type": "code",
   "execution_count": 81,
   "metadata": {},
   "outputs": [],
   "source": [
    "X = df.drop('price', axis=1)\n",
    "y = df['price']"
   ]
  },
  {
   "cell_type": "code",
   "execution_count": 149,
   "metadata": {},
   "outputs": [],
   "source": [
    "X_train, X_test, y_train, y_test = train_test_split(X, y, test_size=0.3, random_state=42)"
   ]
  },
  {
   "cell_type": "markdown",
   "metadata": {},
   "source": [
    "## OLS"
   ]
  },
  {
   "cell_type": "code",
   "execution_count": 150,
   "metadata": {},
   "outputs": [
    {
     "name": "stdout",
     "output_type": "stream",
     "text": [
      "Test R^2: 0.511\n",
      "Mean Error: $86.93\n",
      "Mean Absolute % Error: 49.09%\n",
      "SSE: 25738770.64\n",
      "MSE: 17297.56\n",
      "Accuracy = 50.91%\n"
     ]
    }
   ],
   "source": [
    "lr = LinearRegression()\n",
    "lr.fit(X_train, y_train)\n",
    "evaluate(lr, X_test, y_test)"
   ]
  },
  {
   "cell_type": "markdown",
   "metadata": {},
   "source": [
    "## Ridge"
   ]
  },
  {
   "cell_type": "code",
   "execution_count": 151,
   "metadata": {},
   "outputs": [
    {
     "name": "stdout",
     "output_type": "stream",
     "text": [
      "Test R^2: 0.510\n",
      "Mean Error: $86.95\n",
      "Mean Absolute % Error: 49.07%\n",
      "SSE: 25770703.29\n",
      "MSE: 17319.02\n",
      "Accuracy = 50.93%\n"
     ]
    }
   ],
   "source": [
    "ridge_cv = RidgeCV(cv=20)\n",
    "ridge_cv.fit(X_train, y_train)\n",
    "evaluate(ridge_cv, X_test, y_test)"
   ]
  },
  {
   "cell_type": "markdown",
   "metadata": {},
   "source": [
    "## Lasso"
   ]
  },
  {
   "cell_type": "code",
   "execution_count": 152,
   "metadata": {},
   "outputs": [
    {
     "name": "stdout",
     "output_type": "stream",
     "text": [
      "Test R^2: 0.450\n",
      "Mean Error: $91.92\n",
      "Mean Absolute % Error: 52.45%\n",
      "SSE: 28908240.00\n",
      "MSE: 19427.58\n",
      "Accuracy = 47.55%\n"
     ]
    }
   ],
   "source": [
    "lasso_cv = LassoCV(cv=20, random_state=42)\n",
    "lasso_cv.fit(X_train, y_train)\n",
    "evaluate(lasso_cv, X_test, y_test)"
   ]
  },
  {
   "cell_type": "markdown",
   "metadata": {},
   "source": [
    "## Random Forest"
   ]
  },
  {
   "cell_type": "markdown",
   "metadata": {},
   "source": [
    "### Tuning Hyperparameters"
   ]
  },
  {
   "cell_type": "markdown",
   "metadata": {},
   "source": [
    "param_grid = {\n",
    "    'bootstrap': [True],\n",
    "    'max_depth': [40, 50, 60],\n",
    "    'max_features': ['auto'],\n",
    "    'min_samples_leaf': [1, 2, 3],\n",
    "    'min_samples_split': [4, 5, 6],\n",
    "    'n_estimators': [1750, 2000, 2250]\n",
    "}\n",
    "grid_search = GridSearchCV(estimator = rf, param_grid = param_grid, cv = 3, n_jobs = -1, verbose = 2)\n",
    "grid_search.fit(X_train, y_train)\n",
    "grid_search.best_params_"
   ]
  },
  {
   "cell_type": "code",
   "execution_count": 153,
   "metadata": {},
   "outputs": [
    {
     "name": "stdout",
     "output_type": "stream",
     "text": [
      "Test R^2: 0.730\n",
      "Mean Error: $59.12\n",
      "Mean Absolute % Error: 32.41%\n",
      "SSE: 14197865.10\n",
      "MSE: 9541.58\n",
      "Accuracy = 67.59%\n"
     ]
    }
   ],
   "source": [
    "rf = RandomForestRegressor(bootstrap=True,\n",
    "                           max_depth=50,\n",
    "                           max_features='auto',\n",
    "                           min_samples_leaf=3,\n",
    "                           min_samples_split=4,\n",
    "                           n_estimators=200)\n",
    "rf.fit(X_train, y_train)\n",
    "evaluate(rf, X_test, y_test)"
   ]
  },
  {
   "cell_type": "code",
   "execution_count": 154,
   "metadata": {},
   "outputs": [
    {
     "data": {
      "image/png": "[encoded data removed]",
      "text/plain": [
       "<Figure size 576x396 with 1 Axes>"
      ]
     },
     "metadata": {},
     "output_type": "display_data"
    }
   ],
   "source": [
    "y_pred = rf.predict(X_test)\n",
    "residuals = y_test - y_pred\n",
    "plt.scatter(y_test, residuals)\n",
    "plt.ylabel('Residuals')\n",
    "plt.xlabel('True Price')\n",
    "plt.title('Random Forest Residuals Plot')\n",
    "plt.show()"
   ]
  },
  {
   "cell_type": "code",
   "execution_count": 155,
   "metadata": {},
   "outputs": [
    {
     "data": {
      "image/png": "[encoded data removed]",
      "text/plain": [
       "<Figure size 576x396 with 1 Axes>"
      ]
     },
     "metadata": {},
     "output_type": "display_data"
    }
   ],
   "source": [
    "import scipy as sp\n",
    "fig, ax = plt.subplots()\n",
    "sp.stats.probplot(residuals, plot=ax, fit=True)\n",
    "plt.show()"
   ]
  },
  {
   "cell_type": "code",
   "execution_count": 156,
   "metadata": {},
   "outputs": [
    {
     "data": {
      "text/html": [
       "<div>\n",
       "<style scoped>\n",
       "    .dataframe tbody tr th:only-of-type {\n",
       "        vertical-align: middle;\n",
       "    }\n",
       "\n",
       "    .dataframe tbody tr th {\n",
       "        vertical-align: top;\n",
       "    }\n",
       "\n",
       "    .dataframe thead th {\n",
       "        text-align: right;\n",
       "    }\n",
       "</style>\n",
       "<table border=\"1\" class=\"dataframe\">\n",
       "  <thead>\n",
       "    <tr style=\"text-align: right;\">\n",
       "      <th></th>\n",
       "      <th>0</th>\n",
       "      <th>1</th>\n",
       "    </tr>\n",
       "  </thead>\n",
       "  <tbody>\n",
       "    <tr>\n",
       "      <td>34</td>\n",
       "      <td>require_guest_phone_verification</td>\n",
       "      <td>0.33359</td>\n",
       "    </tr>\n",
       "    <tr>\n",
       "      <td>8</td>\n",
       "      <td>bathrooms</td>\n",
       "      <td>0.211387</td>\n",
       "    </tr>\n",
       "    <tr>\n",
       "      <td>21</td>\n",
       "      <td>availability_365</td>\n",
       "      <td>0.0563399</td>\n",
       "    </tr>\n",
       "    <tr>\n",
       "      <td>12</td>\n",
       "      <td>security_deposit</td>\n",
       "      <td>0.0464129</td>\n",
       "    </tr>\n",
       "    <tr>\n",
       "      <td>6</td>\n",
       "      <td>longitude</td>\n",
       "      <td>0.0321585</td>\n",
       "    </tr>\n",
       "    <tr>\n",
       "      <td>35</td>\n",
       "      <td>calculated_host_listings_count</td>\n",
       "      <td>0.0316981</td>\n",
       "    </tr>\n",
       "    <tr>\n",
       "      <td>2</td>\n",
       "      <td>host_total_listings_count</td>\n",
       "      <td>0.0316612</td>\n",
       "    </tr>\n",
       "    <tr>\n",
       "      <td>36</td>\n",
       "      <td>reviews_per_month</td>\n",
       "      <td>0.0260839</td>\n",
       "    </tr>\n",
       "    <tr>\n",
       "      <td>5</td>\n",
       "      <td>latitude</td>\n",
       "      <td>0.0190646</td>\n",
       "    </tr>\n",
       "    <tr>\n",
       "      <td>20</td>\n",
       "      <td>availability_90</td>\n",
       "      <td>0.018619</td>\n",
       "    </tr>\n",
       "  </tbody>\n",
       "</table>\n",
       "</div>"
      ],
      "text/plain": [
       "                                   0          1\n",
       "34  require_guest_phone_verification    0.33359\n",
       "8                          bathrooms   0.211387\n",
       "21                  availability_365  0.0563399\n",
       "12                  security_deposit  0.0464129\n",
       "6                          longitude  0.0321585\n",
       "35    calculated_host_listings_count  0.0316981\n",
       "2          host_total_listings_count  0.0316612\n",
       "36                 reviews_per_month  0.0260839\n",
       "5                           latitude  0.0190646\n",
       "20                   availability_90   0.018619"
      ]
     },
     "execution_count": 156,
     "metadata": {},
     "output_type": "execute_result"
    }
   ],
   "source": [
    "rf_feature_importances = pd.DataFrame([list(df.columns), rf.feature_importances_]).T\n",
    "rf_feature_importances.sort_values(by=1, ascending=False).head(10)"
   ]
  },
  {
   "cell_type": "markdown",
   "metadata": {},
   "source": [
    "## XGBoosting"
   ]
  },
  {
   "cell_type": "code",
   "execution_count": 157,
   "metadata": {},
   "outputs": [
    {
     "name": "stdout",
     "output_type": "stream",
     "text": [
      "[12:48:59] WARNING: src/objective/regression_obj.cu:152: reg:linear is now deprecated in favor of reg:squarederror.\n",
      "Test R^2: 0.709\n",
      "Mean Error: $64.72\n",
      "Mean Absolute % Error: 34.94%\n",
      "SSE: 15301864.20\n",
      "MSE: 10283.51\n",
      "Accuracy = 65.06%\n"
     ]
    }
   ],
   "source": [
    "xgb = XGBRegressor(random_state=42)\n",
    "xgb.fit(X_train, y_train)\n",
    "evaluate(xgb, X_test, y_test)"
   ]
  },
  {
   "cell_type": "code",
   "execution_count": null,
   "metadata": {},
   "outputs": [],
   "source": []
  }
 ],
 "metadata": {
  "kernelspec": {
   "display_name": "Python 3",
   "language": "python",
   "name": "python3"
  },
  "language_info": {
   "codemirror_mode": {
    "name": "ipython",
    "version": 3
   },
   "file_extension": ".py",
   "mimetype": "text/x-python",
   "name": "python",
   "nbconvert_exporter": "python",
   "pygments_lexer": "ipython3",
   "version": "3.6.9"
  },
  "latex_envs": {
   "LaTeX_envs_menu_present": true,
   "autoclose": false,
   "autocomplete": true,
   "bibliofile": "biblio.bib",
   "cite_by": "apalike",
   "current_citInitial": 1,
   "eqLabelWithNumbers": true,
   "eqNumInitial": 1,
   "hotkeys": {
    "equation": "Ctrl-E",
    "itemize": "Ctrl-I"
   },
   "labels_anchors": false,
   "latex_user_defs": false,
   "report_style_numbering": false,
   "user_envs_cfg": false
  }
 },
 "nbformat": 4,
 "nbformat_minor": 2
}
