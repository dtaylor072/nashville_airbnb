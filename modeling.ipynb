{
 "cells": [
  {
   "cell_type": "code",
   "execution_count": 124,
   "metadata": {},
   "outputs": [],
   "source": [
    "import pandas as pd\n",
    "import numpy as np\n",
    "import matplotlib.pyplot as plt\n",
    "import seaborn as sns\n",
    "\n",
    "from sklearn.model_selection import train_test_split, KFold, cross_val_score, GridSearchCV\n",
    "from sklearn.linear_model import LinearRegression, Ridge, RidgeCV, Lasso, LassoCV\n",
    "from sklearn.preprocessing import StandardScaler\n",
    "from sklearn.ensemble import RandomForestRegressor\n",
    "from sklearn.metrics import accuracy_score\n",
    "from xgboost import XGBRegressor, DMatrix\n",
    "\n",
    "import warnings\n",
    "\n",
    "warnings.simplefilter(action='ignore', category=FutureWarning)\n",
    "plt.style.use('seaborn')"
   ]
  },
  {
   "cell_type": "code",
   "execution_count": 2,
   "metadata": {},
   "outputs": [],
   "source": [
    "# features to read in to pandas DF\n",
    "features = ['id',\n",
    "            'last_scraped',\n",
    "            'host_since',\n",
    "            'host_response_time',\n",
    "            'host_response_rate',\n",
    "            'host_is_superhost',\n",
    "            'host_total_listings_count',\n",
    "            'host_has_profile_pic',\n",
    "            'host_identity_verified',\n",
    "            'latitude',\n",
    "            'longitude',\n",
    "            'property_type',\n",
    "            'room_type',\n",
    "            'accommodates',\n",
    "            'bathrooms',\n",
    "            'bedrooms',\n",
    "            'beds',\n",
    "            'bed_type',\n",
    "            'price',\n",
    "            'security_deposit',\n",
    "            'cleaning_fee',\n",
    "            'guests_included',\n",
    "            'extra_people',\n",
    "            'minimum_nights',\n",
    "            'maximum_nights',\n",
    "            'availability_30',\n",
    "            'availability_60',\n",
    "            'availability_90',\n",
    "            'availability_365',\n",
    "            'number_of_reviews',\n",
    "            'number_of_reviews_ltm',\n",
    "            'first_review',\n",
    "            'last_review',\n",
    "            'review_scores_rating',\n",
    "            'review_scores_accuracy',\n",
    "            'review_scores_cleanliness',\n",
    "            'review_scores_checkin',\n",
    "            'review_scores_communication',\n",
    "            'review_scores_location',\n",
    "            'review_scores_value',\n",
    "            'instant_bookable',\n",
    "            'is_business_travel_ready',\n",
    "            'cancellation_policy',\n",
    "            'require_guest_profile_picture',\n",
    "            'require_guest_phone_verification',\n",
    "            'calculated_host_listings_count',\n",
    "            'reviews_per_month']"
   ]
  },
  {
   "cell_type": "code",
   "execution_count": 5,
   "metadata": {},
   "outputs": [],
   "source": [
    "raw_data = pd.read_csv('data/listings.csv', true_values=['t'], false_values=['f'], usecols=features,\n",
    "                 parse_dates=['last_scraped', 'host_since', 'first_review', 'last_review'])"
   ]
  },
  {
   "cell_type": "code",
   "execution_count": 6,
   "metadata": {},
   "outputs": [],
   "source": [
    "def clean_data(raw_data):  \n",
    "    \"\"\"Clean entire dataset and prepare for modeling\"\"\"\n",
    "    df = raw_data.copy()\n",
    "    \n",
    "    # Decrease dimensionality of property_type and bed_type features\n",
    "    df.property_type = df.property_type.map(lambda x: x if x in ['House', 'Apartment', 'Condominium', 'Townhouse'] else 'Other')\n",
    "    df.bed_type = df.bed_type.map(lambda x: x if x == 'Real Bed' else 'Other')\n",
    "    \n",
    "    # convert currencies to floats\n",
    "    currency_cols = ['price', 'extra_people', 'security_deposit', 'cleaning_fee']\n",
    "    for col in currency_cols:\n",
    "        df[col] = df[col].astype(str)\n",
    "        df[col] = df[col].map(lambda x: float(x.replace('$', '').replace(',', '')))\n",
    "    \n",
    "    # standardize availabilty features\n",
    "    df.availability_30 = df.availability_30 / 30.\n",
    "    df.availability_60 = df.availability_60 / 60.\n",
    "    df.availability_90 = df.availability_90 / 90.\n",
    "    df.availability_365 = df.availability_365 / 365.\n",
    "    \n",
    "    # convert rates and time differences to floats\n",
    "    df['host_response_rate'] = df['host_response_rate'].str.replace('%', '.0').astype('float') / 100.0\n",
    "    df['years_host_since'] = (df['last_scraped'] - df['host_since']) / np.timedelta64(1, 'Y')\n",
    "    df['days_since_first_review'] = (df['last_scraped'] - df['first_review']) / np.timedelta64(1, 'D')\n",
    "    df['days_since_last_review'] = (df['last_scraped'] - df['last_review']) / np.timedelta64(1, 'D')\n",
    "    \n",
    "    # convert True and False values to 1s and 0s\n",
    "    df = df.replace(True, 1.).replace(False, 0.)\n",
    "    \n",
    "    # create dummy variables for categorical features \n",
    "    categorical_features = ['host_response_time',\n",
    "                            'property_type',\n",
    "                            'room_type',\n",
    "                            'bed_type',\n",
    "                            'cancellation_policy']\n",
    "    df = pd.get_dummies(df, columns=categorical_features)\n",
    "    \n",
    "    # drop unnecessary columns and observations with NA values\n",
    "    df.drop(['id', 'last_scraped', 'host_since', 'first_review', 'last_review'], axis=1, inplace=True)\n",
    "    df = df.astype('float')\n",
    "    df.dropna(inplace=True)\n",
    "    \n",
    "    # remove price outliers (keep middle 95%)\n",
    "    quantiles = np.quantile(df.price, [0.025, 0.975])\n",
    "    df = df.loc[(df.price > quantiles[0]) & (df.price < quantiles[1])]\n",
    "    \n",
    "    return df"
   ]
  },
  {
   "cell_type": "code",
   "execution_count": 7,
   "metadata": {},
   "outputs": [],
   "source": [
    "df = clean_data(raw_data)\n",
    "df.to_csv('data/clean_data.csv')"
   ]
  },
  {
   "cell_type": "code",
   "execution_count": 8,
   "metadata": {},
   "outputs": [
    {
     "data": {
      "text/plain": [
       "count    4958.000000\n",
       "mean      224.998386\n",
       "std       197.397135\n",
       "min        46.000000\n",
       "25%        99.000000\n",
       "50%       152.000000\n",
       "75%       259.750000\n",
       "max      1000.000000\n",
       "Name: price, dtype: float64"
      ]
     },
     "execution_count": 8,
     "metadata": {},
     "output_type": "execute_result"
    }
   ],
   "source": [
    "df.price.describe()"
   ]
  },
  {
   "cell_type": "code",
   "execution_count": 9,
   "metadata": {},
   "outputs": [
    {
     "data": {
      "text/plain": [
       "(4958, 60)"
      ]
     },
     "execution_count": 9,
     "metadata": {},
     "output_type": "execute_result"
    }
   ],
   "source": [
    "df.shape"
   ]
  },
  {
   "cell_type": "code",
   "execution_count": 10,
   "metadata": {},
   "outputs": [
    {
     "data": {
      "image/png": "[encoded data removed]",
      "text/plain": [
       "<Figure size 432x288 with 1 Axes>"
      ]
     },
     "metadata": {
      "needs_background": "light"
     },
     "output_type": "display_data"
    }
   ],
   "source": [
    "plt.hist(df.price, bins=20)\n",
    "plt.title('Price Histogram')\n",
    "plt.show()"
   ]
  },
  {
   "cell_type": "code",
   "execution_count": 11,
   "metadata": {},
   "outputs": [
    {
     "data": {
      "image/png": "[encoded data removed]",
      "text/plain": [
       "<Figure size 720x504 with 2 Axes>"
      ]
     },
     "metadata": {
      "needs_background": "light"
     },
     "output_type": "display_data"
    }
   ],
   "source": [
    "df.plot(kind=\"scatter\", x=\"longitude\", y=\"latitude\",\n",
    "    c=\"price\", cmap=plt.get_cmap(\"viridis\"),\n",
    "    colorbar=True, alpha=0.4, figsize=(10,7),\n",
    ")\n",
    "plt.show()"
   ]
  },
  {
   "cell_type": "markdown",
   "metadata": {},
   "source": [
    "#  Regression"
   ]
  },
  {
   "cell_type": "code",
   "execution_count": 81,
   "metadata": {},
   "outputs": [],
   "source": [
    "def evaluate(model, X_test, y_test):\n",
    "    y_pred = model.predict(X_test)\n",
    "    errors = abs(y_pred - y_test)\n",
    "    sse = sum((y_pred - y_test)**2)\n",
    "    mse = np.mean((y_pred - y_test)**2)\n",
    "    mape = 100 * np.mean(errors / y_test)\n",
    "    accuracy = 100 - mape\n",
    "    print('Test R^2: {:0.3f}'.format(model.score(X_test, y_test)))\n",
    "    print('Mean Error: ${:0.2f}'.format(np.mean(errors)))\n",
    "    print('Mean Absolute % Error: {:0.2f}%'.format(mape))\n",
    "    print('SSE: {:0.2f}'.format(sse))\n",
    "    print('MSE: {:0.2f}'.format(mse))\n",
    "    print('RMSE: {:0.2f}'.format(np.sqrt(mse)))\n",
    "    print('Accuracy = {:0.2f}%'.format(accuracy))"
   ]
  },
  {
   "cell_type": "code",
   "execution_count": 82,
   "metadata": {},
   "outputs": [],
   "source": [
    "X = df.drop('price', axis=1)\n",
    "y = df['price']"
   ]
  },
  {
   "cell_type": "code",
   "execution_count": 83,
   "metadata": {},
   "outputs": [],
   "source": [
    "X_train, X_test, y_train, y_test = train_test_split(X, y, test_size=0.3, random_state=42)"
   ]
  },
  {
   "cell_type": "markdown",
   "metadata": {},
   "source": [
    "## OLS"
   ]
  },
  {
   "cell_type": "code",
   "execution_count": 84,
   "metadata": {},
   "outputs": [
    {
     "name": "stdout",
     "output_type": "stream",
     "text": [
      "Test R^2: 0.511\n",
      "Mean Error: $86.93\n",
      "Mean Absolute % Error: 49.09%\n",
      "SSE: 25738770.64\n",
      "MSE: 17297.56\n",
      "RMSE: 131.52\n",
      "Accuracy = 50.91%\n"
     ]
    }
   ],
   "source": [
    "lr = LinearRegression()\n",
    "lr.fit(X_train, y_train)\n",
    "evaluate(lr, X_test, y_test)"
   ]
  },
  {
   "cell_type": "markdown",
   "metadata": {},
   "source": [
    "## Ridge"
   ]
  },
  {
   "cell_type": "code",
   "execution_count": 85,
   "metadata": {},
   "outputs": [
    {
     "name": "stdout",
     "output_type": "stream",
     "text": [
      "Test R^2: 0.510\n",
      "Mean Error: $86.95\n",
      "Mean Absolute % Error: 49.07%\n",
      "SSE: 25770703.29\n",
      "MSE: 17319.02\n",
      "RMSE: 131.60\n",
      "Accuracy = 50.93%\n"
     ]
    }
   ],
   "source": [
    "ridge_cv = RidgeCV(cv=20)\n",
    "ridge_cv.fit(X_train, y_train)\n",
    "evaluate(ridge_cv, X_test, y_test)"
   ]
  },
  {
   "cell_type": "markdown",
   "metadata": {},
   "source": [
    "## Lasso"
   ]
  },
  {
   "cell_type": "code",
   "execution_count": 86,
   "metadata": {},
   "outputs": [
    {
     "name": "stdout",
     "output_type": "stream",
     "text": [
      "Test R^2: 0.450\n",
      "Mean Error: $91.92\n",
      "Mean Absolute % Error: 52.45%\n",
      "SSE: 28908240.00\n",
      "MSE: 19427.58\n",
      "RMSE: 139.38\n",
      "Accuracy = 47.55%\n"
     ]
    }
   ],
   "source": [
    "lasso_cv = LassoCV(cv=20, random_state=42)\n",
    "lasso_cv.fit(X_train, y_train)\n",
    "evaluate(lasso_cv, X_test, y_test)"
   ]
  },
  {
   "cell_type": "markdown",
   "metadata": {},
   "source": [
    "## Random Forest"
   ]
  },
  {
   "cell_type": "markdown",
   "metadata": {},
   "source": [
    "### Tuning Hyperparameters"
   ]
  },
  {
   "cell_type": "code",
   "execution_count": 63,
   "metadata": {},
   "outputs": [
    {
     "data": {
      "text/plain": [
       "\"\\nparam_grid = {\\n    'bootstrap': [True],\\n    'max_depth': [40, 50, 60],\\n    'max_features': ['auto'],\\n    'min_samples_leaf': [1, 2, 3],\\n    'min_samples_split': [4, 5, 6],\\n    'n_estimators': [1750, 2000, 2250]\\n}\\ngrid_search = GridSearchCV(estimator = rf, param_grid = param_grid, cv = 3, n_jobs = -1, verbose = 2)\\ngrid_search.fit(X_train, y_train)\\ngrid_search.best_params_\\n\""
      ]
     },
     "execution_count": 63,
     "metadata": {},
     "output_type": "execute_result"
    }
   ],
   "source": [
    "\"\"\"\n",
    "param_grid = {\n",
    "    'bootstrap': [True],\n",
    "    'max_depth': [40, 50, 60],\n",
    "    'max_features': ['auto'],\n",
    "    'min_samples_leaf': [1, 2, 3],\n",
    "    'min_samples_split': [4, 5, 6],\n",
    "    'n_estimators': [1750, 2000, 2250]\n",
    "}\n",
    "grid_search = GridSearchCV(estimator = rf, param_grid = param_grid, cv = 3, n_jobs = -1, verbose = 2)\n",
    "grid_search.fit(X_train, y_train)\n",
    "grid_search.best_params_\n",
    "\"\"\""
   ]
  },
  {
   "cell_type": "code",
   "execution_count": 87,
   "metadata": {},
   "outputs": [
    {
     "name": "stdout",
     "output_type": "stream",
     "text": [
      "Test R^2: 0.730\n",
      "Mean Error: $59.19\n",
      "Mean Absolute % Error: 32.50%\n",
      "SSE: 14206368.09\n",
      "MSE: 9547.29\n",
      "RMSE: 97.71\n",
      "Accuracy = 67.50%\n"
     ]
    }
   ],
   "source": [
    "rf = RandomForestRegressor(bootstrap=True,\n",
    "                           max_depth=50,\n",
    "                           max_features='auto',\n",
    "                           min_samples_leaf=3,\n",
    "                           min_samples_split=4,\n",
    "                           n_estimators=200)\n",
    "rf.fit(X_train, y_train)\n",
    "evaluate(rf, X_test, y_test)"
   ]
  },
  {
   "cell_type": "code",
   "execution_count": 88,
   "metadata": {},
   "outputs": [
    {
     "name": "stdout",
     "output_type": "stream",
     "text": [
      "Accuracy: 70.37% (5.70%)\n"
     ]
    }
   ],
   "source": [
    "kfold = KFold(n_splits=5, random_state=42)\n",
    "results = cross_val_score(rf, X_train, y_train, cv=kfold)\n",
    "\n",
    "print(\"Accuracy: %.2f%% (%.2f%%)\" % (results.mean()*100, results.std()*100))"
   ]
  },
  {
   "cell_type": "code",
   "execution_count": 89,
   "metadata": {},
   "outputs": [
    {
     "data": {
      "image/png": "[encoded data removed]",
      "text/plain": [
       "<Figure size 576x396 with 1 Axes>"
      ]
     },
     "metadata": {},
     "output_type": "display_data"
    }
   ],
   "source": [
    "y_pred = rf.predict(X_test)\n",
    "residuals = y_test - y_pred\n",
    "plt.scatter(y_test, residuals)\n",
    "plt.ylabel('Residuals')\n",
    "plt.xlabel('True Price')\n",
    "plt.title('Random Forest Residuals Plot')\n",
    "plt.show()"
   ]
  },
  {
   "cell_type": "code",
   "execution_count": 90,
   "metadata": {},
   "outputs": [
    {
     "data": {
      "image/png": "[encoded data removed]",
      "text/plain": [
       "<Figure size 576x396 with 1 Axes>"
      ]
     },
     "metadata": {},
     "output_type": "display_data"
    }
   ],
   "source": [
    "import scipy as sp\n",
    "fig, ax = plt.subplots()\n",
    "sp.stats.probplot(residuals, plot=ax, fit=True)\n",
    "plt.show()"
   ]
  },
  {
   "cell_type": "code",
   "execution_count": 91,
   "metadata": {},
   "outputs": [
    {
     "data": {
      "text/html": [
       "<div>\n",
       "<style scoped>\n",
       "    .dataframe tbody tr th:only-of-type {\n",
       "        vertical-align: middle;\n",
       "    }\n",
       "\n",
       "    .dataframe tbody tr th {\n",
       "        vertical-align: top;\n",
       "    }\n",
       "\n",
       "    .dataframe thead th {\n",
       "        text-align: right;\n",
       "    }\n",
       "</style>\n",
       "<table border=\"1\" class=\"dataframe\">\n",
       "  <thead>\n",
       "    <tr style=\"text-align: right;\">\n",
       "      <th></th>\n",
       "      <th>0</th>\n",
       "      <th>1</th>\n",
       "    </tr>\n",
       "  </thead>\n",
       "  <tbody>\n",
       "    <tr>\n",
       "      <td>34</td>\n",
       "      <td>require_guest_phone_verification</td>\n",
       "      <td>0.343195</td>\n",
       "    </tr>\n",
       "    <tr>\n",
       "      <td>8</td>\n",
       "      <td>bathrooms</td>\n",
       "      <td>0.208939</td>\n",
       "    </tr>\n",
       "    <tr>\n",
       "      <td>21</td>\n",
       "      <td>availability_365</td>\n",
       "      <td>0.0545934</td>\n",
       "    </tr>\n",
       "    <tr>\n",
       "      <td>12</td>\n",
       "      <td>security_deposit</td>\n",
       "      <td>0.0462394</td>\n",
       "    </tr>\n",
       "    <tr>\n",
       "      <td>6</td>\n",
       "      <td>longitude</td>\n",
       "      <td>0.0325716</td>\n",
       "    </tr>\n",
       "    <tr>\n",
       "      <td>35</td>\n",
       "      <td>calculated_host_listings_count</td>\n",
       "      <td>0.0318357</td>\n",
       "    </tr>\n",
       "    <tr>\n",
       "      <td>36</td>\n",
       "      <td>reviews_per_month</td>\n",
       "      <td>0.0268674</td>\n",
       "    </tr>\n",
       "    <tr>\n",
       "      <td>2</td>\n",
       "      <td>host_total_listings_count</td>\n",
       "      <td>0.0236639</td>\n",
       "    </tr>\n",
       "    <tr>\n",
       "      <td>7</td>\n",
       "      <td>accommodates</td>\n",
       "      <td>0.019889</td>\n",
       "    </tr>\n",
       "    <tr>\n",
       "      <td>5</td>\n",
       "      <td>latitude</td>\n",
       "      <td>0.0193514</td>\n",
       "    </tr>\n",
       "  </tbody>\n",
       "</table>\n",
       "</div>"
      ],
      "text/plain": [
       "                                   0          1\n",
       "34  require_guest_phone_verification   0.343195\n",
       "8                          bathrooms   0.208939\n",
       "21                  availability_365  0.0545934\n",
       "12                  security_deposit  0.0462394\n",
       "6                          longitude  0.0325716\n",
       "35    calculated_host_listings_count  0.0318357\n",
       "36                 reviews_per_month  0.0268674\n",
       "2          host_total_listings_count  0.0236639\n",
       "7                       accommodates   0.019889\n",
       "5                           latitude  0.0193514"
      ]
     },
     "execution_count": 91,
     "metadata": {},
     "output_type": "execute_result"
    }
   ],
   "source": [
    "rf_feature_importances = pd.DataFrame([list(df.columns), rf.feature_importances_]).T\n",
    "rf_feature_importances.sort_values(by=1, ascending=False).head(10)"
   ]
  },
  {
   "cell_type": "markdown",
   "metadata": {},
   "source": [
    "## XGBoost"
   ]
  },
  {
   "cell_type": "code",
   "execution_count": 92,
   "metadata": {},
   "outputs": [
    {
     "name": "stdout",
     "output_type": "stream",
     "text": [
      "Test R^2: 0.709\n",
      "Mean Error: $64.72\n",
      "Mean Absolute % Error: 34.94%\n",
      "SSE: 15301864.20\n",
      "MSE: 10283.51\n",
      "RMSE: 101.41\n",
      "Accuracy = 65.06%\n"
     ]
    }
   ],
   "source": [
    "xgb = XGBRegressor(objective='reg:squarederror', random_state=42)\n",
    "xgb.fit(X_train, y_train)\n",
    "evaluate(xgb, X_test, y_test)"
   ]
  },
  {
   "cell_type": "code",
   "execution_count": 76,
   "metadata": {},
   "outputs": [
    {
     "name": "stdout",
     "output_type": "stream",
     "text": [
      "Accuracy: 70.27% (4.97%)\n"
     ]
    }
   ],
   "source": [
    "kfold = KFold(n_splits=5, random_state=42)\n",
    "results = cross_val_score(xgb, X_train, y_train, cv=kfold)\n",
    "\n",
    "print(\"Accuracy: %.2f%% (%.2f%%)\" % (results.mean()*100, results.std()*100))"
   ]
  },
  {
   "cell_type": "markdown",
   "metadata": {},
   "source": [
    "### Hyperparameter Tuning"
   ]
  },
  {
   "cell_type": "code",
   "execution_count": 180,
   "metadata": {},
   "outputs": [
    {
     "data": {
      "text/plain": [
       "({'max_depth': 6, 'min_child_weight': 8}, -10835.866204810714)"
      ]
     },
     "execution_count": 180,
     "metadata": {},
     "output_type": "execute_result"
    }
   ],
   "source": [
    "params1 = {\n",
    "    'max_depth':[4, 5, 6],\n",
    "    'min_child_weight':[5, 7, 8, 10]\n",
    "}\n",
    "gs1 = GridSearchCV(estimator = XGBRegressor(learning_rate =0.1,\n",
    "                                             n_estimators=100,\n",
    "                                             max_depth=6,\n",
    "                                             min_child_weight=1,\n",
    "                                             gamma=0,\n",
    "                                             subsample=0.8,\n",
    "                                             colsample_bytree=0.8,\n",
    "                                             nthread=-1,\n",
    "                                             scale_pos_weight=1,\n",
    "                                             objective='reg:squarederror',\n",
    "                                             seed=42),\n",
    "                  param_grid=params1,\n",
    "                  scoring='neg_mean_squared_error',\n",
    "                  n_jobs=-1,\n",
    "                  cv=3)\n",
    "\n",
    "gs1.fit(X_train, y_train)\n",
    "gs1.best_params_, gs1.best_score_"
   ]
  },
  {
   "cell_type": "code",
   "execution_count": 181,
   "metadata": {},
   "outputs": [
    {
     "data": {
      "text/plain": [
       "({'gamma': 0.0}, -10835.866204810714)"
      ]
     },
     "execution_count": 181,
     "metadata": {},
     "output_type": "execute_result"
    }
   ],
   "source": [
    "params2 = {\n",
    "    'gamma':[i/10. for i in range(0,1)],\n",
    "}\n",
    "\n",
    "gs2 = GridSearchCV(estimator = XGBRegressor(learning_rate =0.1,\n",
    "                                             n_estimators=100,\n",
    "                                             max_depth=6,\n",
    "                                             min_child_weight=8,\n",
    "                                             gamma=0,\n",
    "                                             subsample=0.8,\n",
    "                                             colsample_bytree=0.8,\n",
    "                                             nthread=-1,\n",
    "                                             scale_pos_weight=1,\n",
    "                                             objective='reg:squarederror',\n",
    "                                             seed=42),\n",
    "                  param_grid=params2,\n",
    "                  scoring='neg_mean_squared_error',\n",
    "                  n_jobs=-1,\n",
    "                  cv=3)\n",
    "\n",
    "gs2.fit(X_train, y_train)\n",
    "gs2.best_params_, gs2.best_score_"
   ]
  },
  {
   "cell_type": "code",
   "execution_count": 182,
   "metadata": {},
   "outputs": [
    {
     "data": {
      "text/plain": [
       "({'colsample_bytree': 1.0, 'subsample': 0.5}, -10931.309711964414)"
      ]
     },
     "execution_count": 182,
     "metadata": {},
     "output_type": "execute_result"
    }
   ],
   "source": [
    "params3 = {\n",
    "    'subsample':[i/10. for i in range(3,7)],\n",
    "    'colsample_bytree':[i/10. for i in range(8,11)]\n",
    "}\n",
    "\n",
    "gs3 = GridSearchCV(estimator = XGBRegressor(learning_rate =0.1,\n",
    "                                             n_estimators=100,\n",
    "                                             max_depth=6,\n",
    "                                             min_child_weight=8,\n",
    "                                             gamma=0,\n",
    "                                             subsample=0.8,\n",
    "                                             colsample_bytree=0.8,\n",
    "                                             nthread=-1,\n",
    "                                             scale_pos_weight=1,\n",
    "                                             objective='reg:squarederror',\n",
    "                                             seed=42),\n",
    "                  param_grid=params3,\n",
    "                  scoring='neg_mean_squared_error',\n",
    "                  n_jobs=-1,\n",
    "                  cv=3)\n",
    "\n",
    "gs3.fit(X_train, y_train)\n",
    "gs3.best_params_, gs3.best_score_"
   ]
  },
  {
   "cell_type": "code",
   "execution_count": 184,
   "metadata": {},
   "outputs": [
    {
     "data": {
      "text/plain": [
       "({'reg_alpha': 316.22776601683796}, -10608.14535848596)"
      ]
     },
     "execution_count": 184,
     "metadata": {},
     "output_type": "execute_result"
    }
   ],
   "source": [
    "params4 = {\n",
    "    'reg_alpha':[10**i for i in [1, 2, 2.5, 3]]\n",
    "}\n",
    "\n",
    "gs4 = GridSearchCV(estimator = XGBRegressor(learning_rate =0.1,\n",
    "                                             n_estimators=100,\n",
    "                                             max_depth=6,\n",
    "                                             min_child_weight=8,\n",
    "                                             gamma=0,\n",
    "                                             subsample=0.8,\n",
    "                                             colsample_bytree=0.8,\n",
    "                                             nthread=-1,\n",
    "                                             scale_pos_weight=1,\n",
    "                                             objective='reg:squarederror',\n",
    "                                             seed=42),\n",
    "                  param_grid=params4,\n",
    "                  scoring='neg_mean_squared_error',\n",
    "                  n_jobs=-1,\n",
    "                  cv=3)\n",
    "\n",
    "gs4.fit(X_train, y_train)\n",
    "gs4.best_params_, gs4.best_score_"
   ]
  },
  {
   "cell_type": "code",
   "execution_count": 194,
   "metadata": {},
   "outputs": [
    {
     "data": {
      "text/plain": [
       "({'learning_rate': 0.1}, -10857.31593605588)"
      ]
     },
     "execution_count": 194,
     "metadata": {},
     "output_type": "execute_result"
    }
   ],
   "source": [
    "params5 = {\n",
    "    'learning_rate':np.arange(0, 0.5, 0.05)\n",
    "}\n",
    "\n",
    "gs5 = GridSearchCV(estimator = XGBRegressor(learning_rate =0.1,\n",
    "                                             n_estimators=100,\n",
    "                                             max_depth=6,\n",
    "                                             min_child_weight=8,\n",
    "                                             gamma=0,\n",
    "                                             subsample=0.8,\n",
    "                                             colsample_bytree=0.8,\n",
    "                                             reg_alpha=2.5,\n",
    "                                             nthread=-1,\n",
    "                                             scale_pos_weight=1,\n",
    "                                             objective='reg:squarederror',\n",
    "                                             seed=42),\n",
    "                  param_grid=params5,\n",
    "                  scoring='neg_mean_squared_error',\n",
    "                  n_jobs=-1,\n",
    "                  cv=3)\n",
    "\n",
    "gs5.fit(X_train, y_train)\n",
    "gs5.best_params_, gs5.best_score_"
   ]
  },
  {
   "cell_type": "code",
   "execution_count": 196,
   "metadata": {},
   "outputs": [
    {
     "name": "stdout",
     "output_type": "stream",
     "text": [
      "Test R^2: 0.748\n",
      "Mean Error: $57.88\n",
      "Mean Absolute % Error: 30.98%\n",
      "SSE: 13281948.31\n",
      "MSE: 8926.04\n",
      "RMSE: 94.48\n",
      "Accuracy = 69.02%\n"
     ]
    }
   ],
   "source": [
    "xgb = XGBRegressor(learning_rate=0.1,\n",
    "                   n_estimators=100,\n",
    "                   max_depth=6,\n",
    "                   min_child_weight=8,\n",
    "                   gamma=0,\n",
    "                   subsample=0.8,\n",
    "                   colsample_bytree=0.8,\n",
    "                   reg_alpha=2.5,\n",
    "                   nthread=-1,\n",
    "                   scale_pos_weight=1,\n",
    "                   objective='reg:squarederror',\n",
    "                   seed=42)\n",
    "xgb.fit(X_train, y_train)\n",
    "evaluate(xgb, X_test, y_test)"
   ]
  }
 ],
 "metadata": {
  "kernelspec": {
   "display_name": "Python 3",
   "language": "python",
   "name": "python3"
  },
  "language_info": {
   "codemirror_mode": {
    "name": "ipython",
    "version": 3
   },
   "file_extension": ".py",
   "mimetype": "text/x-python",
   "name": "python",
   "nbconvert_exporter": "python",
   "pygments_lexer": "ipython3",
   "version": "3.6.9"
  },
  "latex_envs": {
   "LaTeX_envs_menu_present": true,
   "autoclose": false,
   "autocomplete": true,
   "bibliofile": "biblio.bib",
   "cite_by": "apalike",
   "current_citInitial": 1,
   "eqLabelWithNumbers": true,
   "eqNumInitial": 1,
   "hotkeys": {
    "equation": "Ctrl-E",
    "itemize": "Ctrl-I"
   },
   "labels_anchors": false,
   "latex_user_defs": false,
   "report_style_numbering": false,
   "user_envs_cfg": false
  }
 },
 "nbformat": 4,
 "nbformat_minor": 2
}
